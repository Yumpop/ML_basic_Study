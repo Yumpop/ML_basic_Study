{
  "nbformat": 4,
  "nbformat_minor": 0,
  "metadata": {
    "colab": {
      "name": "머신러닝 공룡",
      "provenance": [],
      "authorship_tag": "ABX9TyPQunCem20tr7KTbp4I+Rkn",
      "include_colab_link": true
    },
    "kernelspec": {
      "name": "python3",
      "display_name": "Python 3"
    },
    "language_info": {
      "name": "python"
    }
  },
  "cells": [
    {
      "cell_type": "markdown",
      "metadata": {
        "id": "view-in-github",
        "colab_type": "text"
      },
      "source": [
        "<a href=\"https://colab.research.google.com/github/Yumpop/ML_basic_Study/blob/main/%EB%A8%B8%EC%8B%A0%EB%9F%AC%EB%8B%9D_%EA%B3%B5%EB%A3%A1.ipynb\" target=\"_parent\"><img src=\"https://colab.research.google.com/assets/colab-badge.svg\" alt=\"Open In Colab\"/></a>"
      ]
    },
    {
      "cell_type": "markdown",
      "source": [
        "소스코드 :  https://github.com/chulminkw/PerfectGuide"
      ],
      "metadata": {
        "id": "vOy3VVFZLq5V"
      }
    },
    {
      "cell_type": "markdown",
      "source": [
        "## 넘파이, 판다스"
      ],
      "metadata": {
        "id": "qxXKNALkEwn6"
      }
    },
    {
      "cell_type": "markdown",
      "source": [
        "ndarray : N차원(Dimension)배열(array) 객체\n",
        "np.array() - () 안에 리스트를 넣어야함"
      ],
      "metadata": {
        "id": "AoSEn4FsMHpI"
      }
    },
    {
      "cell_type": "markdown",
      "source": [
        "- ndarray 안의 데이터 값은 숫자, 문자열, 불 값등 모두 가능\n",
        "    - ndarray내 데이터 타입은 특성상 같은 데이터 타입만 존재 가능\n",
        "    - ex) int와 float형이 같이 존재할 수 없음\n",
        "    - 만약 다른 데이터가 같이 존재할 경우 데이터가 큰 데이터로 바뀜\n",
        "- 데이터 타입 확인 : ndarray.dtype()\n",
        "\n",
        "\n",
        "1.   데이터 타입 변화\n",
        "    - 대용량 데이터들을 다룰시 메모리 절약을 위해 형변환을 주로 함\n",
        "    - astype()에 인자로 입력\n",
        "    - ex) 0,1,2 와 같이 크지않는 범위의 숫자를 위해 64bit의 float형 보다는 8bit의 int형으로 변환\n",
        "\n",
        "2. axis축 \n",
        "    - axis 0 : 행방향\n",
        "    - axis 1 : 열방향"
      ],
      "metadata": {
        "id": "l7Cq66b_NRWW"
      }
    },
    {
      "cell_type": "code",
      "execution_count": 17,
      "metadata": {
        "colab": {
          "base_uri": "https://localhost:8080/"
        },
        "id": "cRaK9bF7EknF",
        "outputId": "717de3db-e07c-4649-bc25-2290a9bbd7ae"
      },
      "outputs": [
        {
          "output_type": "stream",
          "name": "stdout",
          "text": [
            "<class 'numpy.ndarray'>\n",
            "(3,)\n",
            "<class 'numpy.ndarray'>\n",
            "(2, 3)\n"
          ]
        }
      ],
      "source": [
        "import numpy as np \n",
        "array1= np.array([1,2,3])  # 1차원 - shape (3,)\n",
        "array2 = np.array([[1,2,3],[2,3,4]]) # 2차원 - shape (2,3)\n",
        "\n",
        "print(type(array1))\n",
        "print(array1.shape)\n",
        "\n",
        "print(type(array2)) \n",
        "print(array2.shape)"
      ]
    },
    {
      "cell_type": "code",
      "source": [
        "list2 = [1,2,'test']\n",
        "array2 = np.array(list2)\n",
        "print(array2, array2.dtype)\n",
        "\n",
        "list3 = [1,2,3.0]\n",
        "array3 = np.array(list3)\n",
        "print(array3, array3.dtype)"
      ],
      "metadata": {
        "colab": {
          "base_uri": "https://localhost:8080/"
        },
        "id": "oFaiJZWXPl_c",
        "outputId": "8f6b935a-5acb-452d-bbc0-8f14771d51e6"
      },
      "execution_count": 24,
      "outputs": [
        {
          "output_type": "stream",
          "name": "stdout",
          "text": [
            "['1' '2' 'test'] <U21\n",
            "[1. 2. 3.] float64\n"
          ]
        }
      ]
    },
    {
      "cell_type": "code",
      "source": [
        "array_int = np.array([1,2,3])\n",
        "array_float = array_int.astype('float')\n",
        "print(array_float, array_float.dtype)"
      ],
      "metadata": {
        "colab": {
          "base_uri": "https://localhost:8080/"
        },
        "id": "e0RTpioRQLqy",
        "outputId": "6cb76c49-0312-4240-9cc0-0f007cd9b6d4"
      },
      "execution_count": 26,
      "outputs": [
        {
          "output_type": "stream",
          "name": "stdout",
          "text": [
            "[1. 2. 3.] float64\n"
          ]
        }
      ]
    },
    {
      "cell_type": "code",
      "source": [
        "array2 = np.array([[1,2,3],\n",
        "                   [2,3,4]])\n",
        "print(array2.sum())  # 전체 데이터를 각각 더함 : 15\n",
        "print(array2.sum(axis=0)) # 행끼리 더함\n",
        "print(array2.sum(axis=1)) # 열끼리 더함"
      ],
      "metadata": {
        "colab": {
          "base_uri": "https://localhost:8080/"
        },
        "id": "TRor3abSQsJD",
        "outputId": "83152081-8a28-418e-fc2d-03cc72b894c3"
      },
      "execution_count": 33,
      "outputs": [
        {
          "output_type": "stream",
          "name": "stdout",
          "text": [
            "15\n",
            "[3 5 7]\n",
            "[6 9]\n"
          ]
        }
      ]
    },
    {
      "cell_type": "markdown",
      "source": [
        "1. ndarray 생성하기\n",
        "    - np.arange(X) \n",
        "        - 0부터 X개의 숫자를 표현\n",
        "    - np.zeros((X,Y)) - dtype의 default은 실수형\n",
        "        - 0으로 X행 Y열의 배열을 만듬\n",
        "    - np.ones((X,Y) - dtype의 default은 실수형\n",
        "        - 1으로 X행 Y열의 배열을 만듬\n",
        "2. reshape()\n",
        "    - 차원을 변경\n",
        "    - 인자에 -1을 부여하면 그 axis는 가변적으로 바뀜\n"
      ],
      "metadata": {
        "id": "657A5t6YRgI-"
      }
    },
    {
      "cell_type": "code",
      "source": [
        "se_array = np.arange(10)\n",
        "print(se_array)\n",
        "print(se_array.dtype, se_array.shape)\n",
        "\n",
        "zero_array = np.zeros((3,2), dtype = 'int32')\n",
        "print(zero_array)\n",
        "print(zero_array.dtype, zero_array.shape)\n",
        "\n",
        "one_array = np.ones((3,2))\n",
        "print(one_array)\n",
        "print(one_array.dtype, one_array.shape)"
      ],
      "metadata": {
        "colab": {
          "base_uri": "https://localhost:8080/"
        },
        "id": "ArEJmWN4Re8f",
        "outputId": "5067e2f6-1460-4e84-ebfd-7798fcef7889"
      },
      "execution_count": 40,
      "outputs": [
        {
          "output_type": "stream",
          "name": "stdout",
          "text": [
            "[0 1 2 3 4 5 6 7 8 9]\n",
            "int64 (10,)\n",
            "[[0 0]\n",
            " [0 0]\n",
            " [0 0]]\n",
            "int32 (3, 2)\n",
            "[[1. 1.]\n",
            " [1. 1.]\n",
            " [1. 1.]]\n",
            "float64 (3, 2)\n"
          ]
        }
      ]
    },
    {
      "cell_type": "code",
      "source": [
        "array1 =  np.arange(10)\n",
        "print(array1)\n",
        "# shape 변환\n",
        "array2 = array1.reshape(5,2)\n",
        "print(array2)"
      ],
      "metadata": {
        "colab": {
          "base_uri": "https://localhost:8080/"
        },
        "id": "XhcV0pRtUQby",
        "outputId": "fc0e66e1-69df-4a9d-f5e9-6ad360c2c611"
      },
      "execution_count": 50,
      "outputs": [
        {
          "output_type": "stream",
          "name": "stdout",
          "text": [
            "[0 1 2 3 4 5 6 7 8 9]\n",
            "[[0 1]\n",
            " [2 3]\n",
            " [4 5]\n",
            " [6 7]\n",
            " [8 9]]\n"
          ]
        }
      ]
    },
    {
      "cell_type": "code",
      "source": [
        "array1.reshape(4,5)\n",
        "# 변환할 수 없는 형태가 주어지면 오류 발생"
      ],
      "metadata": {
        "colab": {
          "base_uri": "https://localhost:8080/",
          "height": 193
        },
        "id": "Y7Ht-Uc3VWuQ",
        "outputId": "6cabd007-496c-4a52-a844-10b4d0c00bcb"
      },
      "execution_count": 52,
      "outputs": [
        {
          "output_type": "error",
          "ename": "ValueError",
          "evalue": "ignored",
          "traceback": [
            "\u001b[0;31m---------------------------------------------------------------------------\u001b[0m",
            "\u001b[0;31mValueError\u001b[0m                                Traceback (most recent call last)",
            "\u001b[0;32m<ipython-input-52-3d92c6fba15b>\u001b[0m in \u001b[0;36m<module>\u001b[0;34m()\u001b[0m\n\u001b[0;32m----> 1\u001b[0;31m \u001b[0marray1\u001b[0m\u001b[0;34m.\u001b[0m\u001b[0mreshape\u001b[0m\u001b[0;34m(\u001b[0m\u001b[0;36m4\u001b[0m\u001b[0;34m,\u001b[0m\u001b[0;36m5\u001b[0m\u001b[0;34m)\u001b[0m\u001b[0;34m\u001b[0m\u001b[0;34m\u001b[0m\u001b[0m\n\u001b[0m\u001b[1;32m      2\u001b[0m \u001b[0;31m# 변환할 수 없는 형태가 주어지면 오류 발생\u001b[0m\u001b[0;34m\u001b[0m\u001b[0;34m\u001b[0m\u001b[0;34m\u001b[0m\u001b[0m\n",
            "\u001b[0;31mValueError\u001b[0m: cannot reshape array of size 10 into shape (4,5)"
          ]
        }
      ]
    },
    {
      "cell_type": "code",
      "source": [
        "array1 = np.arange(10)\n",
        "array2 = array1.reshape(-1,5)\n",
        "print(array2, '\\n', array2.shape)\n",
        "\n",
        "array3 = array1.reshape(5,-1)\n",
        "print(array3, '\\n', array3.shape)"
      ],
      "metadata": {
        "colab": {
          "base_uri": "https://localhost:8080/"
        },
        "id": "iPy3QTUEVeLx",
        "outputId": "b7981a45-dad8-4ab8-d5d4-0e19cf4fe884"
      },
      "execution_count": 57,
      "outputs": [
        {
          "output_type": "stream",
          "name": "stdout",
          "text": [
            "[[0 1 2 3 4]\n",
            " [5 6 7 8 9]] \n",
            " (2, 5)\n",
            "[[0 1]\n",
            " [2 3]\n",
            " [4 5]\n",
            " [6 7]\n",
            " [8 9]] \n",
            " (5, 2)\n"
          ]
        }
      ]
    },
    {
      "cell_type": "code",
      "source": [
        "array1 = np.arange(5)\n",
        "\n",
        "# 1차원을 2차원으로 변환\n",
        "array2 = array1.reshape(-1,1)\n",
        "print(array2, array2.shape)\n",
        "print()\n",
        "\n",
        "# 2차원을 1차원으로 변환\n",
        "array3 = array2.reshape(-1,)\n",
        "print(array3, array3.shape)\n",
        "\n",
        "# reshape() 의 인자에 -1은 한 개만 사용 가능  "
      ],
      "metadata": {
        "colab": {
          "base_uri": "https://localhost:8080/"
        },
        "id": "CeI9rYlgVwgB",
        "outputId": "0cbc8db4-3998-40f3-94c8-7f8c5ba6ab1c"
      },
      "execution_count": 61,
      "outputs": [
        {
          "output_type": "stream",
          "name": "stdout",
          "text": [
            "[[0]\n",
            " [1]\n",
            " [2]\n",
            " [3]\n",
            " [4]] (5, 1)\n",
            "\n",
            "[0 1 2 3 4] (5,)\n"
          ]
        }
      ]
    },
    {
      "cell_type": "markdown",
      "source": [
        "1. 인덱싱 방법\n",
        "    - 특정 위치 단일값 추출\n",
        "    - 슬라이싱\n",
        "    - 팬시 인덱싱\n",
        "        - 리스트로 인덱스집합을 지정하면 해당 인덱스의 값을 반환\n",
        "    - 불린 인덱싱\n",
        "        - 조건 필터링과 검색을 동시에 가능 "
      ],
      "metadata": {
        "id": "nV0sfpBPW6a-"
      }
    },
    {
      "cell_type": "markdown",
      "source": [
        "- 팬시 인덱싱"
      ],
      "metadata": {
        "id": "_BIDJQsFYhoM"
      }
    },
    {
      "cell_type": "code",
      "source": [
        "array1d = np.arange(start= 1, stop = 10)\n",
        "array2d = array1d.reshape(-1,3)\n",
        "print(array2d)\n",
        "print()\n",
        "\n",
        "array3 = array2d[[0,1],1]\n",
        "print('array2d[[0,1],2] =>', array3.tolist()) # tolist는 리스트형태로 표현\n",
        "print()\n",
        "\n",
        "array4 = array2d[[0,2], 0:2]\n",
        "print(array4.tolist())"
      ],
      "metadata": {
        "colab": {
          "base_uri": "https://localhost:8080/"
        },
        "id": "KGKdT2C9YD2W",
        "outputId": "8d723a70-103d-4c3a-c1f7-dad6f0471690"
      },
      "execution_count": 71,
      "outputs": [
        {
          "output_type": "stream",
          "name": "stdout",
          "text": [
            "[[1 2 3]\n",
            " [4 5 6]\n",
            " [7 8 9]]\n",
            "\n",
            "array2d[[0,1],2] => [2, 5]\n",
            "\n",
            "[[1, 2], [7, 8]]\n"
          ]
        }
      ]
    },
    {
      "cell_type": "markdown",
      "source": [
        "- 불린 인덱싱 \n",
        "    - 메커니즘 \n",
        "        1. 조건을 수행\n",
        "        2. False값은 무시하고 True값에 해당하는 인덱스 값들만 저장\n",
        "        3. 저장된 인덱스값으로 데이터값 조회"
      ],
      "metadata": {
        "id": "XKowxT1xaN1R"
      }
    },
    {
      "cell_type": "code",
      "source": [
        "array1d = np.arange(start = 1, stop =10)\n",
        "print(array1d)"
      ],
      "metadata": {
        "colab": {
          "base_uri": "https://localhost:8080/"
        },
        "id": "sSG4dcQ3aPpY",
        "outputId": "c3392bd5-46f6-432e-9655-43bd36582517"
      },
      "execution_count": 73,
      "outputs": [
        {
          "output_type": "stream",
          "name": "stdout",
          "text": [
            "[1 2 3 4 5 6 7 8 9]\n"
          ]
        }
      ]
    },
    {
      "cell_type": "code",
      "source": [
        "print(array1d>5) # 불린 데이터로 조건을 수행해서 ndarray 형태로 반환해줌\n",
        "var1 = array1d\n",
        "print(type(var1))"
      ],
      "metadata": {
        "colab": {
          "base_uri": "https://localhost:8080/"
        },
        "id": "UR6h51cxblpM",
        "outputId": "54684442-6709-44b3-b5ca-ed616c4a3cbb"
      },
      "execution_count": 77,
      "outputs": [
        {
          "output_type": "stream",
          "name": "stdout",
          "text": [
            "[False False False False False  True  True  True  True]\n",
            "<class 'numpy.ndarray'>\n"
          ]
        }
      ]
    },
    {
      "cell_type": "code",
      "source": [
        "print(array1d)\n",
        "array3 = array1d[array1d>5]         # 불린 인덱싱으로 값 찾기\n",
        "print('array1d로 불린인덱싱을 한 결과값', array3)"
      ],
      "metadata": {
        "colab": {
          "base_uri": "https://localhost:8080/"
        },
        "id": "cDK2sTYMb7Ty",
        "outputId": "9f819aaa-6085-478d-8ded-32eefab2c7c3"
      },
      "execution_count": 78,
      "outputs": [
        {
          "output_type": "stream",
          "name": "stdout",
          "text": [
            "[1 2 3 4 5 6 7 8 9]\n",
            "array1d로 불린인덱싱을 한 결과값 [6 7 8 9]\n"
          ]
        }
      ]
    },
    {
      "cell_type": "markdown",
      "source": [
        "1. 배열의 정렬\n",
        "    - sort() : default은 오름차순, 내림차순은 [::-1]을 적용 \n",
        "        - np.sort() : 원본 행렬은 유지한 채 원본행렬의 정렬된 행렬을 반환\n",
        "        - ndarray.sort() : 원본 행렬 자체를 정렬한 상태로 반환\n",
        "    - argsort()\n",
        "        - 원본행렬을 정렬한 후 정렬하기 전 인덱스 반환\n",
        "\n",
        "2. 2차원 배열에서 정렬\n",
        "    - axis기반으로 정렬한다\n",
        "\n",
        "3. 선형대수 연산\n",
        "    - np.dot(A,B) - 행렬 내적\n",
        "    - np.transpose(A) - 전치행렬"
      ],
      "metadata": {
        "id": "TCbFVkiqcw8H"
      }
    },
    {
      "cell_type": "code",
      "source": [
        "org_array = np.array([3,1,9,5])\n",
        "print('원본행렬 : ', org_array)\n",
        "print()\n",
        "\n",
        "sort_array1 = np.sort(org_array)\n",
        "print('np.sort() 호출 후 반환된 행렬', sort_array1)\n",
        "print('np.sort()호출 후 원본 행렬', org_array)\n",
        "print()\n",
        "\n",
        "sort_array2 = org_array.sort()\n",
        "print('org_array.sort() 호출 후 반환된 행렬', sort_array2)  # 반환된 행렬은 없고 원본이 바뀜\n",
        "print('org_array.sort() 호출 후 원본 행렬', org_array)"
      ],
      "metadata": {
        "colab": {
          "base_uri": "https://localhost:8080/"
        },
        "id": "KAW2TYByX9R3",
        "outputId": "f5c2aef2-5d43-4a1b-879c-aedcc0bfbca7"
      },
      "execution_count": 81,
      "outputs": [
        {
          "output_type": "stream",
          "name": "stdout",
          "text": [
            "원본행렬 :  [3 1 9 5]\n",
            "\n",
            "np.sort() 호출 후 반환된 행렬 [1 3 5 9]\n",
            "np.sort()호출 후 원본 행렬 [3 1 9 5]\n",
            "\n",
            "org_array.sort() 호출 후 반환된 행렬 None\n",
            "org_array.sort() 호출 후 원본 행렬 [1 3 5 9]\n"
          ]
        }
      ]
    },
    {
      "cell_type": "code",
      "source": [
        "sort_array1 = np.sort(org_array)[::-1]\n",
        "print(sort_array1)"
      ],
      "metadata": {
        "colab": {
          "base_uri": "https://localhost:8080/"
        },
        "id": "rp7GpktyfzJg",
        "outputId": "21800692-2a74-4c57-b47a-5448306189ae"
      },
      "execution_count": 82,
      "outputs": [
        {
          "output_type": "stream",
          "name": "stdout",
          "text": [
            "[9 5 3 1]\n"
          ]
        }
      ]
    },
    {
      "cell_type": "code",
      "source": [
        "# argsort\n",
        "org_array = np.array([3,1,9,5])\n",
        "print(np.sort(org_array))\n",
        "\n",
        "sort_indices = np.argsort(org_array)[::-1]\n",
        "print('내림차순전 원본 행렬 인덱스', sort_indices)"
      ],
      "metadata": {
        "colab": {
          "base_uri": "https://localhost:8080/"
        },
        "id": "YkUlIXGmgBxg",
        "outputId": "418ab938-4a79-4393-871a-4c0c69cce332"
      },
      "execution_count": 86,
      "outputs": [
        {
          "output_type": "stream",
          "name": "stdout",
          "text": [
            "[1 3 5 9]\n",
            "내림차순전 원본 행렬 인덱스 [2 3 0 1]\n"
          ]
        }
      ]
    },
    {
      "cell_type": "code",
      "source": [
        "# 각 사람의 인덱스와 동일한 사람이 점수를 가짐\n",
        "# 점수를 정렬한후 사람들을 출력하기 원함\n",
        "name_array = np.array(['jonhn', 'mike', 'sarch', 'kate', 'sam'])\n",
        "score_array = np.array([78, 95, 84, 98, 88])\n",
        "\n",
        "sort_indices = np.argsort(score_array)\n",
        "print(sort_indices)\n",
        "\n",
        "name_array_sort = name_array[sort_indices]\n",
        "\n",
        "score_array_sort = score_array[sort_indices]\n",
        "print(name_array_sort)\n",
        "print(score_array_sort)"
      ],
      "metadata": {
        "colab": {
          "base_uri": "https://localhost:8080/"
        },
        "id": "7-j7tHXngHQg",
        "outputId": "d8ab1c08-4a32-44f2-cd51-50a4dd9f3406"
      },
      "execution_count": 88,
      "outputs": [
        {
          "output_type": "stream",
          "name": "stdout",
          "text": [
            "[0 2 4 1 3]\n",
            "['jonhn' 'sarch' 'sam' 'mike' 'kate']\n",
            "[78 84 88 95 98]\n"
          ]
        }
      ]
    }
  ]
}